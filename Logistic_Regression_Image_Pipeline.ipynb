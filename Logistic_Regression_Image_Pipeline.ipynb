{
 "cells": [
  {
   "cell_type": "code",
   "execution_count": 31,
   "metadata": {},
   "outputs": [],
   "source": [
    "from sklearn.linear_model import LogisticRegression\n",
    "from sklearn import datasets\n",
    "import pickle\n",
    "from sklearn.externals import joblib\n",
    "import h5py\n",
    "import os\n",
    "import matplotlib.pyplot as plt\n",
    "import pandas as pd\n",
    "import numpy as np\n",
    "from functools import reduce"
   ]
  },
  {
   "cell_type": "code",
   "execution_count": 32,
   "metadata": {},
   "outputs": [],
   "source": [
    "#define file path\n",
    "hf_path = '/home/smahesh3/ondemand/data/sys/dashboard/batch_connect/sys/jupyter-notebook/MODIS_MLData_Shape_64x64_2020057.1300_.hdf'\n",
    "# hf_path = '/home/hackathon/output_64_Javier_labelled/MODIS_MLData_Shape_64x64_2009003.1430_.hdf'\n",
    "\n",
    "hf_file = h5py.File(hf_path,'r')\n",
    "hf_keys = list(hf_file.keys())\n",
    "\n",
    "# All Images informations\n",
    "imagesData = dict()\n",
    "imagesData[hf_path] = dict()\n",
    "good_filenames = list()\n",
    "\n",
    "\n",
    "#access all data within images; save into an array if you like\n",
    "#automatically extracted as numpy arrays\n",
    "for image_num in hf_keys:\n",
    "\n",
    "    Classification_Accuracy = hf_file[image_num + '/ClassificationAccuracy'][()]\n",
    "    Feature_Labels          = hf_file[image_num + '/FeatureLabels'][()]\n",
    "    Image_Classification    = hf_file[image_num + '/ImageClassification'][()]\n",
    "    Image_Features          = hf_file[image_num + '/ImageFeatures'][()]\n",
    "    \n",
    "    imagesData[hf_path][image_num] = list()\n",
    "    imagesData[hf_path][image_num].append(Classification_Accuracy)\n",
    "    imagesData[hf_path][image_num].append(Feature_Labels)\n",
    "    imagesData[hf_path][image_num].append(Image_Classification)\n",
    "    imagesData[hf_path][image_num].append(Image_Features)\n",
    "    good_filenames.append(hf_path)\n",
    "\n"
   ]
  },
  {
   "cell_type": "code",
   "execution_count": 33,
   "metadata": {},
   "outputs": [
    {
     "data": {
      "text/plain": [
       "185"
      ]
     },
     "execution_count": 33,
     "metadata": {},
     "output_type": "execute_result"
    }
   ],
   "source": [
    "len(imagesData[hf_path])"
   ]
  },
  {
   "cell_type": "code",
   "execution_count": 34,
   "metadata": {},
   "outputs": [],
   "source": [
    "dataframeDictionary = dict()\n",
    "dataframeDictionary[\"Ground_truth\"] = list()\n",
    "# importantFeatures = [31,14,25,30,17,21,29,26]\n",
    "# importantFeatures = [14,25,31]\n",
    "\n",
    "# Prepare dictionary for all image features\n",
    "for filename in imagesData:\n",
    "    for image in imagesData[filename]:  \n",
    "        allImageFeatures = imagesData[filename][image][3]\n",
    "        for whichFeature in range(len(allImageFeatures)):\n",
    "            dataframeDictionary[whichFeature] = list()\n",
    "\n",
    "# Populating the data frame with all features and ground truth\n",
    "for filename in imagesData:\n",
    "    for image in imagesData[filename]:\n",
    "        allImageFeatures = imagesData[filename][image][3]\n",
    "        for whichFeature in range(len(allImageFeatures)):\n",
    "            imageFeatureMatrix = imagesData[filename][image][3][whichFeature]\n",
    "            for x in range(len(imageFeatureMatrix)):\n",
    "                for y in range(len(imageFeatureMatrix[x])):\n",
    "                    dataframeDictionary[whichFeature].append(imageFeatureMatrix[x][y])\n",
    "        \n",
    "        # Ground Truth \n",
    "        groundTruthMatrix = imagesData[filename][image][2]\n",
    "        for x in range(len(groundTruthMatrix)):\n",
    "                for y in range(len(groundTruthMatrix[x])):\n",
    "                    if groundTruthMatrix[x][y] > 1:\n",
    "                        groundTruthMatrix[x][y] = 1\n",
    "                    dataframeDictionary[\"Ground_truth\"].append(groundTruthMatrix[x][y])\n",
    "\n",
    "dataframe = pd.DataFrame(dataframeDictionary)"
   ]
  },
  {
   "cell_type": "code",
   "execution_count": 35,
   "metadata": {},
   "outputs": [],
   "source": [
    "#Data processing to prepare result\n",
    "\n",
    "undefined_indices = []\n",
    "\n",
    "def rows_to_numpy_arr(pixel_rows, offset):\n",
    "    arr, undefined_indices = [], []\n",
    "    for i in range(0,64):\n",
    "        new_row = []\n",
    "        for j in range(0,64):\n",
    "            m = 0\n",
    "            try:\n",
    "                m = pixel_rows[4096*offset + (64*i + j)]\n",
    "            except:\n",
    "                if (4096*offset + (64*i + j)) not in undefined_indices:\n",
    "                    undefined_indices.append(4096*offset + (64*i + j))\n",
    "                \n",
    "            new_row.append(0 if (m == 0) else 1)\n",
    "        arr.append(new_row)\n",
    "    return np.array(arr, np.int32)\n",
    "\n",
    "def plot_2d_numpy_arr(np_arr, title=''):\n",
    "    f = plt.figure(figsize = (5, 5))\n",
    "    f.add_subplot(1, 1, 1)\n",
    "    cs = plt.imshow(np_arr)\n",
    "    cbar = f.colorbar(cs)\n",
    "\n",
    "    plt.title(title)"
   ]
  },
  {
   "cell_type": "code",
   "execution_count": 46,
   "metadata": {},
   "outputs": [],
   "source": [
    "logreg = joblib.load(\"all_weighted.pkl\")\n",
    "# logreg = joblib.load(\"all_good.pkl\")\n",
    "# logreg = joblib.load(\"FinalLogRegOverAllFeatures.pkl\")\n",
    "# logreg = joblib.load(\"TheLogReg.pkl\")\n",
    "\n",
    "image_num = 130\n",
    "x_image = dataframe.drop(\"Ground_truth\", axis=1)[4096*image_num:4096*(image_num+1)]\n",
    "y_image = dataframe.Ground_truth[4096*image_num:4096*(image_num+1)]\n",
    "y_predict = logreg.predict(x_image)"
   ]
  },
  {
   "cell_type": "code",
   "execution_count": 47,
   "metadata": {
    "scrolled": true
   },
   "outputs": [
    {
     "name": "stdout",
     "output_type": "stream",
     "text": [
      "accuracy = 0.983642578125\n"
     ]
    },
    {
     "data": {
      "image/png": "[encoded data removed]",
      "text/plain": [
       "<Figure size 360x360 with 2 Axes>"
      ]
     },
     "metadata": {
      "needs_background": "light"
     },
     "output_type": "display_data"
    },
    {
     "data": {
      "image/png": "[encoded data removed]",
      "text/plain": [
       "<Figure size 360x360 with 2 Axes>"
      ]
     },
     "metadata": {
      "needs_background": "light"
     },
     "output_type": "display_data"
    },
    {
     "data": {
      "image/png": "[encoded data removed]",
      "text/plain": [
       "<Figure size 360x360 with 2 Axes>"
      ]
     },
     "metadata": {
      "needs_background": "light"
     },
     "output_type": "display_data"
    }
   ],
   "source": [
    "test = y_image.astype(int).tolist()\n",
    "predict = y_predict.astype(int).tolist()\n",
    "\n",
    "test_arr = rows_to_numpy_arr(test, 0)\n",
    "plot_2d_numpy_arr(test_arr, \"Ground Truth\")\n",
    "\n",
    "pred_arr = rows_to_numpy_arr(predict, 0)\n",
    "plot_2d_numpy_arr(pred_arr, \"Pixelwise Classification\")\n",
    "\n",
    "diff = test_arr == pred_arr\n",
    "plot_2d_numpy_arr(diff.astype(int), \"Intersection\")\n",
    "\n",
    "flatten_list = reduce(lambda z, y :z + y, diff.tolist())\n",
    "print(\"accuracy = \" + str(len([x for x in flatten_list if x != 0])/4096))"
   ]
  },
  {
   "cell_type": "code",
   "execution_count": 9,
   "metadata": {},
   "outputs": [],
   "source": [
    "#define file path\n",
    "images = hf_path\n",
    "\n",
    "hf_file = h5py.File(images,'r')\n",
    "hf_keys = list(hf_file.keys())\n",
    "\n",
    "imagesData = dict()\n",
    "\n",
    "\n",
    "file_path = images\n",
    "\n",
    "#grab h5py file object\n",
    "try:\n",
    "    hf_file = h5py.File(file_path, 'r')\n",
    "except OSError:\n",
    "    OsErrors += 1\n",
    "\n",
    "#list the main groups; image number in this case\n",
    "hf_keys = list(hf_file.keys())\n",
    "\n",
    "# All Images informations\n",
    "imagesData = dict()\n",
    "\n",
    "#access all data within images; save into an array if you like\n",
    "#automatically extracted as numpy arrays\n",
    "for image_num in hf_keys:\n",
    "\n",
    "    Classification_Accuracy = hf_file[image_num + '/ClassificationAccuracy'][()]\n",
    "    Feature_Labels          = hf_file[image_num + '/FeatureLabels'][()]\n",
    "    Image_Classification    = hf_file[image_num + '/ImageClassification'][()]\n",
    "    Image_Features          = hf_file[image_num + '/ImageFeatures'][()]\n",
    "\n",
    "    imagesData[image_num] = list()\n",
    "    imagesData[image_num].append(Classification_Accuracy)\n",
    "    imagesData[image_num].append(Feature_Labels)\n",
    "    imagesData[image_num].append(Image_Classification)\n",
    "    imagesData[image_num].append(Image_Features)\n"
   ]
  },
  {
   "cell_type": "code",
   "execution_count": 10,
   "metadata": {
    "scrolled": false
   },
   "outputs": [
    {
     "data": {
      "image/png": "[encoded data removed]",
      "text/plain": [
       "<Figure size 360x360 with 2 Axes>"
      ]
     },
     "metadata": {
      "needs_background": "light"
     },
     "output_type": "display_data"
    }
   ],
   "source": [
    "for i,_ in enumerate(hf_keys):\n",
    "    if i != 162:\n",
    "        continue;\n",
    "    f = plt.figure(figsize = (5, 5))\n",
    "    f.add_subplot(1, 1, 1)\n",
    "    imagesData[hf_keys[i]][2][imagesData[hf_keys[i]][2] > 0] = 1\n",
    "    cs = plt.imshow(imagesData[hf_keys[i]][2])\n",
    "\n",
    "    cbar = f.colorbar(cs)\n",
    "    cbar.ax.minorticks_off()\n",
    "    plt.title('Image' + str(i))\n",
    "    \n",
    "    break"
   ]
  },
  {
   "cell_type": "code",
   "execution_count": null,
   "metadata": {},
   "outputs": [],
   "source": []
  }
 ],
 "metadata": {
  "kernelspec": {
   "display_name": "Python 3",
   "language": "python",
   "name": "python3"
  },
  "language_info": {
   "codemirror_mode": {
    "name": "ipython",
    "version": 3
   },
   "file_extension": ".py",
   "mimetype": "text/x-python",
   "name": "python",
   "nbconvert_exporter": "python",
   "pygments_lexer": "ipython3",
   "version": "3.6.9"
  }
 },
 "nbformat": 4,
 "nbformat_minor": 4
}
